{
 "cells": [
  {
   "cell_type": "markdown",
   "metadata": {
    "id": "kcmNw4gTlQmE"
   },
   "source": [
    "# **GLAUCOMA PREDICTION**"
   ]
  },
  {
   "cell_type": "code",
   "execution_count": null,
   "metadata": {
    "colab": {
     "base_uri": "https://localhost:8080/"
    },
    "id": "wd0b8Tlce1XB",
    "outputId": "82a83d4a-54e8-43a0-8a2f-3fbb5e52abee"
   },
   "outputs": [
    {
     "name": "stdout",
     "output_type": "stream",
     "text": [
      "Drive already mounted at /content/drive; to attempt to forcibly remount, call drive.mount(\"/content/drive\", force_remount=True).\n"
     ]
    }
   ],
   "source": [
    "from google.colab import drive\n",
    "drive.mount('/content/drive')"
   ]
  },
  {
   "cell_type": "markdown",
   "metadata": {
    "id": "hDFJuTfHlbr7"
   },
   "source": [
    "# **IMPORTING LIBERARIES**"
   ]
  },
  {
   "cell_type": "code",
   "execution_count": null,
   "metadata": {
    "id": "MuNKyk9ie5ve"
   },
   "outputs": [],
   "source": [
    "#Importing the Libraries\n",
    "import os\n",
    "import cv2\n",
    "import numpy as np\n",
    "from tqdm import tqdm\n",
    "import matplotlib.pyplot as plt\n",
    "import pandas as pd\n",
    "from sklearn.utils import shuffle\n",
    "from sklearn.model_selection import train_test_split\n",
    "from keras.preprocessing.image import ImageDataGenerator, load_img, img_to_array\n",
    "from keras.models import Sequential, model_from_json\n",
    "from keras.layers import Conv2D, Dense, Dropout, BatchNormalization, Flatten, MaxPool2D, GlobalAveragePooling2D\n",
    "from keras.callbacks import ModelCheckpoint, ReduceLROnPlateau\n",
    "from keras.applications.densenet import DenseNet121\n",
    "import tensorflow as tf\n"
   ]
  },
  {
   "cell_type": "markdown",
   "metadata": {
    "id": "KADdHx9IlV7D"
   },
   "source": [
    "# **PRE-PROCESSING**"
   ]
  },
  {
   "cell_type": "code",
   "execution_count": null,
   "metadata": {
    "colab": {
     "base_uri": "https://localhost:8080/"
    },
    "id": "wbHcR8W2e7GN",
    "outputId": "76ab2a41-eb58-4791-c97e-53df57f8913e"
   },
   "outputs": [
    {
     "name": "stderr",
     "output_type": "stream",
     "text": [
      "100%|██████████| 521/521 [00:08<00:00, 60.90it/s] \n",
      "100%|██████████| 631/631 [00:30<00:00, 20.37it/s]\n",
      "100%|██████████| 571/571 [00:11<00:00, 48.15it/s]\n"
     ]
    }
   ],
   "source": [
    "# Defining a function to Crop and change the image from RGB to Gray Scale\n",
    "def crop_image_from_gray(img,tol=7):\n",
    "    if img.ndim ==2:\n",
    "        mask = img>tol\n",
    "        return img[np.ix_(mask.any(1),mask.any(0))]\n",
    "    elif img.ndim==3:\n",
    "        gray_img = cv2.cvtColor(img, cv2.COLOR_RGB2GRAY)\n",
    "        mask = gray_img>tol\n",
    "\n",
    "        check_shape = img[:,:,0][np.ix_(mask.any(1),mask.any(0))].shape[0]\n",
    "        if (check_shape == 0): # image is too dark so that we crop out everything,\n",
    "            return img # return original image\n",
    "        else:\n",
    "            img1=img[:,:,0][np.ix_(mask.any(1),mask.any(0))]\n",
    "            img2=img[:,:,1][np.ix_(mask.any(1),mask.any(0))]\n",
    "            img3=img[:,:,2][np.ix_(mask.any(1),mask.any(0))]\n",
    "    #         print(img1.shape,img2.shape,img3.shape)\n",
    "            img = np.stack([img1,img2,img3],axis=-1)\n",
    "    #         print(img.shape)\n",
    "        return img\n",
    "\n",
    "#Defining the Path \n",
    "path = [ '/content/drive/MyDrive/NOGlaucoma_CROP','/content/drive/MyDrive/severe glaucomaCropped','/content/drive/MyDrive/moderatecrop']\n",
    "images = []\n",
    "labels = []\n",
    "for n,i in enumerate(path):\n",
    "    for j in tqdm(os.listdir(i)):\n",
    "        img_path = os.path.join(i,j)\n",
    "        img = cv2.imread(img_path)\n",
    "        img = crop_image_from_gray(img,tol=7)\n",
    "        img = cv2.resize(img, (224,224))\n",
    "        images.append(img)\n",
    "        labels.append(n)\n",
    "\n",
    "#Creating Array of Images and Lables\n",
    "images = np.array(images)/255\n",
    "labels = np.array(labels)\n"
   ]
  },
  {
   "cell_type": "markdown",
   "metadata": {
    "id": "SCEaUj-klKK9"
   },
   "source": [
    "# **CNN ALGORITHM**"
   ]
  },
  {
   "cell_type": "code",
   "execution_count": null,
   "metadata": {
    "colab": {
     "base_uri": "https://localhost:8080/"
    },
    "id": "4noEPAr-e8ge",
    "outputId": "7e8adff4-0216-43eb-e058-949e0f652908"
   },
   "outputs": [
    {
     "name": "stdout",
     "output_type": "stream",
     "text": [
      "Downloading data from https://storage.googleapis.com/tensorflow/keras-applications/densenet/densenet121_weights_tf_dim_ordering_tf_kernels_notop.h5\n",
      "29089792/29084464 [==============================] - 0s 0us/step\n",
      "29097984/29084464 [==============================] - 0s 0us/step\n",
      "Model: \"sequential\"\n",
      "_________________________________________________________________\n",
      " Layer (type)                Output Shape              Param #   \n",
      "=================================================================\n",
      " densenet121 (Functional)    (None, 7, 7, 1024)        7037504   \n",
      "                                                                 \n",
      " global_average_pooling2d (G  (None, 1024)             0         \n",
      " lobalAveragePooling2D)                                          \n",
      "                                                                 \n",
      " dense (Dense)               (None, 25)                25625     \n",
      "                                                                 \n",
      " dense_1 (Dense)             (None, 80)                2080      \n",
      "                                                                 \n",
      " dense_2 (Dense)             (None, 100)               8100      \n",
      "                                                                 \n",
      " dense_3 (Dense)             (None, 50)                5050      \n",
      "                                                                 \n",
      " dropout (Dropout)           (None, 50)                0         \n",
      "                                                                 \n",
      " dense_4 (Dense)             (None, 1)                 51        \n",
      "                                                                 \n",
      "=================================================================\n",
      "Total params: 7,078,410\n",
      "Trainable params: 6,994,762\n",
      "Non-trainable params: 83,648\n",
      "_________________________________________________________________\n"
     ]
    },
    {
     "name": "stderr",
     "output_type": "stream",
     "text": [
      "/usr/local/lib/python3.7/dist-packages/ipykernel_launcher.py:35: UserWarning: `Model.fit_generator` is deprecated and will be removed in a future version. Please use `Model.fit`, which supports generators.\n"
     ]
    },
    {
     "name": "stdout",
     "output_type": "stream",
     "text": [
      "Epoch 1/50\n",
      "25/25 [==============================] - ETA: 0s - loss: 0.3974 - accuracy: 0.3350\n",
      "Epoch 1: val_loss improved from inf to 0.14547, saving model to CNN2Weights2.h5\n",
      "25/25 [==============================] - 45s 715ms/step - loss: 0.3974 - accuracy: 0.3350 - val_loss: 0.1455 - val_accuracy: 0.3362 - lr: 0.0010\n",
      "Epoch 2/50\n",
      "25/25 [==============================] - ETA: 0s - loss: -0.1831 - accuracy: 0.3831\n",
      "Epoch 2: val_loss improved from 0.14547 to 0.09735, saving model to CNN2Weights2.h5\n",
      "25/25 [==============================] - 15s 585ms/step - loss: -0.1831 - accuracy: 0.3831 - val_loss: 0.0973 - val_accuracy: 0.3362 - lr: 0.0010\n",
      "Epoch 3/50\n",
      "25/25 [==============================] - ETA: 0s - loss: -0.1861 - accuracy: 0.3584\n",
      "Epoch 3: val_loss did not improve from 0.09735\n",
      "25/25 [==============================] - 11s 450ms/step - loss: -0.1861 - accuracy: 0.3584 - val_loss: 0.0991 - val_accuracy: 0.3362 - lr: 0.0010\n",
      "Epoch 4/50\n",
      "25/25 [==============================] - ETA: 0s - loss: -0.2419 - accuracy: 0.3825\n",
      "Epoch 4: val_loss did not improve from 0.09735\n",
      "25/25 [==============================] - 12s 470ms/step - loss: -0.2419 - accuracy: 0.3825 - val_loss: 0.1096 - val_accuracy: 0.3362 - lr: 0.0010\n",
      "Epoch 5/50\n",
      "25/25 [==============================] - ETA: 0s - loss: -0.3103 - accuracy: 0.3792\n",
      "Epoch 5: val_loss improved from 0.09735 to -0.18626, saving model to CNN2Weights2.h5\n",
      "25/25 [==============================] - 13s 511ms/step - loss: -0.3103 - accuracy: 0.3792 - val_loss: -0.1863 - val_accuracy: 0.3362 - lr: 0.0010\n",
      "Epoch 6/50\n",
      "25/25 [==============================] - ETA: 0s - loss: -0.4883 - accuracy: 0.3862\n",
      "Epoch 6: val_loss did not improve from -0.18626\n",
      "25/25 [==============================] - 12s 459ms/step - loss: -0.4883 - accuracy: 0.3862 - val_loss: 0.1130 - val_accuracy: 0.3362 - lr: 0.0010\n",
      "Epoch 7/50\n",
      "25/25 [==============================] - ETA: 0s - loss: -0.6289 - accuracy: 0.3948\n",
      "Epoch 7: val_loss did not improve from -0.18626\n",
      "25/25 [==============================] - 12s 451ms/step - loss: -0.6289 - accuracy: 0.3948 - val_loss: 0.2821 - val_accuracy: 0.3362 - lr: 0.0010\n",
      "Epoch 8/50\n",
      "25/25 [==============================] - ETA: 0s - loss: -1.0923 - accuracy: 0.4610\n",
      "Epoch 8: val_loss did not improve from -0.18626\n",
      "25/25 [==============================] - 11s 450ms/step - loss: -1.0923 - accuracy: 0.4610 - val_loss: 0.5082 - val_accuracy: 0.4522 - lr: 0.0010\n",
      "Epoch 9/50\n",
      "25/25 [==============================] - ETA: 0s - loss: -1.4125 - accuracy: 0.5263\n",
      "Epoch 9: val_loss did not improve from -0.18626\n",
      "\n",
      "Epoch 9: ReduceLROnPlateau reducing learning rate to 0.00020000000949949026.\n",
      "25/25 [==============================] - 12s 459ms/step - loss: -1.4125 - accuracy: 0.5263 - val_loss: 0.1244 - val_accuracy: 0.3362 - lr: 0.0010\n",
      "Epoch 10/50\n",
      "25/25 [==============================] - ETA: 0s - loss: -1.6985 - accuracy: 0.5584\n",
      "Epoch 10: val_loss did not improve from -0.18626\n",
      "25/25 [==============================] - 12s 454ms/step - loss: -1.6985 - accuracy: 0.5584 - val_loss: -0.0935 - val_accuracy: 0.4000 - lr: 2.0000e-04\n",
      "Epoch 11/50\n",
      "25/25 [==============================] - ETA: 0s - loss: -1.8863 - accuracy: 0.5925\n",
      "Epoch 11: val_loss did not improve from -0.18626\n",
      "25/25 [==============================] - 12s 472ms/step - loss: -1.8863 - accuracy: 0.5925 - val_loss: 0.4157 - val_accuracy: 0.4667 - lr: 2.0000e-04\n",
      "Epoch 12/50\n",
      "25/25 [==============================] - ETA: 0s - loss: -1.9113 - accuracy: 0.6012\n",
      "Epoch 12: val_loss improved from -0.18626 to -1.52792, saving model to CNN2Weights2.h5\n",
      "25/25 [==============================] - 13s 510ms/step - loss: -1.9113 - accuracy: 0.6012 - val_loss: -1.5279 - val_accuracy: 0.6058 - lr: 2.0000e-04\n",
      "Epoch 13/50\n",
      "25/25 [==============================] - ETA: 0s - loss: -1.9132 - accuracy: 0.6182\n",
      "Epoch 13: val_loss improved from -1.52792 to -1.93643, saving model to CNN2Weights2.h5\n",
      "25/25 [==============================] - 13s 501ms/step - loss: -1.9132 - accuracy: 0.6182 - val_loss: -1.9364 - val_accuracy: 0.6261 - lr: 2.0000e-04\n",
      "Epoch 14/50\n",
      "25/25 [==============================] - ETA: 0s - loss: -2.0669 - accuracy: 0.6260\n",
      "Epoch 14: val_loss improved from -1.93643 to -2.07173, saving model to CNN2Weights2.h5\n",
      "25/25 [==============================] - 13s 497ms/step - loss: -2.0669 - accuracy: 0.6260 - val_loss: -2.0717 - val_accuracy: 0.6783 - lr: 2.0000e-04\n",
      "Epoch 15/50\n",
      "25/25 [==============================] - ETA: 0s - loss: -2.0633 - accuracy: 0.6182\n",
      "Epoch 15: val_loss improved from -2.07173 to -2.11404, saving model to CNN2Weights2.h5\n",
      "25/25 [==============================] - 13s 498ms/step - loss: -2.0633 - accuracy: 0.6182 - val_loss: -2.1140 - val_accuracy: 0.6783 - lr: 2.0000e-04\n",
      "Epoch 16/50\n",
      "25/25 [==============================] - ETA: 0s - loss: -2.1170 - accuracy: 0.6026\n",
      "Epoch 16: val_loss did not improve from -2.11404\n",
      "25/25 [==============================] - 12s 454ms/step - loss: -2.1170 - accuracy: 0.6026 - val_loss: -1.5613 - val_accuracy: 0.4174 - lr: 2.0000e-04\n",
      "Epoch 17/50\n",
      "25/25 [==============================] - ETA: 0s - loss: -2.3175 - accuracy: 0.6286\n",
      "Epoch 17: val_loss did not improve from -2.11404\n",
      "25/25 [==============================] - 12s 466ms/step - loss: -2.3175 - accuracy: 0.6286 - val_loss: -2.0802 - val_accuracy: 0.6174 - lr: 2.0000e-04\n",
      "Epoch 18/50\n",
      "25/25 [==============================] - ETA: 0s - loss: -2.2223 - accuracy: 0.6288\n",
      "Epoch 18: val_loss did not improve from -2.11404\n",
      "25/25 [==============================] - 12s 458ms/step - loss: -2.2223 - accuracy: 0.6288 - val_loss: 0.7160 - val_accuracy: 0.4174 - lr: 2.0000e-04\n",
      "Epoch 19/50\n",
      "25/25 [==============================] - ETA: 0s - loss: -2.2992 - accuracy: 0.6237\n",
      "Epoch 19: val_loss did not improve from -2.11404\n",
      "\n",
      "Epoch 19: ReduceLROnPlateau reducing learning rate to 4.0000001899898055e-05.\n",
      "25/25 [==============================] - 12s 460ms/step - loss: -2.2992 - accuracy: 0.6237 - val_loss: 0.7409 - val_accuracy: 0.4522 - lr: 2.0000e-04\n",
      "Epoch 20/50\n",
      "25/25 [==============================] - ETA: 0s - loss: -2.3271 - accuracy: 0.6325\n",
      "Epoch 20: val_loss did not improve from -2.11404\n",
      "25/25 [==============================] - 12s 461ms/step - loss: -2.3271 - accuracy: 0.6325 - val_loss: -0.7875 - val_accuracy: 0.5362 - lr: 4.0000e-05\n",
      "Epoch 21/50\n",
      "25/25 [==============================] - ETA: 0s - loss: -2.1457 - accuracy: 0.6286\n",
      "Epoch 21: val_loss did not improve from -2.11404\n",
      "25/25 [==============================] - 11s 452ms/step - loss: -2.1457 - accuracy: 0.6286 - val_loss: -1.9395 - val_accuracy: 0.5362 - lr: 4.0000e-05\n",
      "Epoch 22/50\n",
      "25/25 [==============================] - ETA: 0s - loss: -2.3556 - accuracy: 0.6429\n",
      "Epoch 22: val_loss did not improve from -2.11404\n",
      "25/25 [==============================] - 12s 453ms/step - loss: -2.3556 - accuracy: 0.6429 - val_loss: -2.0647 - val_accuracy: 0.5884 - lr: 4.0000e-05\n",
      "Epoch 23/50\n",
      "25/25 [==============================] - ETA: 0s - loss: -2.3951 - accuracy: 0.6237\n",
      "Epoch 23: val_loss improved from -2.11404 to -2.31011, saving model to CNN2Weights2.h5\n",
      "25/25 [==============================] - 13s 507ms/step - loss: -2.3951 - accuracy: 0.6237 - val_loss: -2.3101 - val_accuracy: 0.6783 - lr: 4.0000e-05\n",
      "Epoch 24/50\n",
      "25/25 [==============================] - ETA: 0s - loss: -2.2865 - accuracy: 0.6388\n",
      "Epoch 24: val_loss improved from -2.31011 to -2.31785, saving model to CNN2Weights2.h5\n",
      "25/25 [==============================] - 13s 510ms/step - loss: -2.2865 - accuracy: 0.6388 - val_loss: -2.3179 - val_accuracy: 0.6783 - lr: 4.0000e-05\n",
      "Epoch 25/50\n",
      "25/25 [==============================] - ETA: 0s - loss: -2.4321 - accuracy: 0.6208\n",
      "Epoch 25: val_loss improved from -2.31785 to -2.32294, saving model to CNN2Weights2.h5\n",
      "25/25 [==============================] - 13s 500ms/step - loss: -2.4321 - accuracy: 0.6208 - val_loss: -2.3229 - val_accuracy: 0.6783 - lr: 4.0000e-05\n",
      "Epoch 26/50\n",
      "25/25 [==============================] - ETA: 0s - loss: -2.3794 - accuracy: 0.6312\n",
      "Epoch 26: val_loss improved from -2.32294 to -2.32820, saving model to CNN2Weights2.h5\n",
      "25/25 [==============================] - 13s 499ms/step - loss: -2.3794 - accuracy: 0.6312 - val_loss: -2.3282 - val_accuracy: 0.6783 - lr: 4.0000e-05\n",
      "Epoch 27/50\n",
      "25/25 [==============================] - ETA: 0s - loss: -2.4701 - accuracy: 0.6403\n",
      "Epoch 27: val_loss improved from -2.32820 to -2.34067, saving model to CNN2Weights2.h5\n",
      "25/25 [==============================] - 13s 500ms/step - loss: -2.4701 - accuracy: 0.6403 - val_loss: -2.3407 - val_accuracy: 0.6783 - lr: 4.0000e-05\n",
      "Epoch 28/50\n",
      "25/25 [==============================] - ETA: 0s - loss: -2.4427 - accuracy: 0.6442\n",
      "Epoch 28: val_loss improved from -2.34067 to -2.34779, saving model to CNN2Weights2.h5\n",
      "25/25 [==============================] - 13s 497ms/step - loss: -2.4427 - accuracy: 0.6442 - val_loss: -2.3478 - val_accuracy: 0.6783 - lr: 4.0000e-05\n",
      "Epoch 29/50\n",
      "25/25 [==============================] - ETA: 0s - loss: -2.3559 - accuracy: 0.6545\n",
      "Epoch 29: val_loss improved from -2.34779 to -2.35509, saving model to CNN2Weights2.h5\n",
      "25/25 [==============================] - 13s 500ms/step - loss: -2.3559 - accuracy: 0.6545 - val_loss: -2.3551 - val_accuracy: 0.6783 - lr: 4.0000e-05\n",
      "Epoch 30/50\n",
      "25/25 [==============================] - ETA: 0s - loss: -2.5166 - accuracy: 0.6263\n",
      "Epoch 30: val_loss improved from -2.35509 to -2.36263, saving model to CNN2Weights2.h5\n",
      "25/25 [==============================] - 13s 509ms/step - loss: -2.5166 - accuracy: 0.6263 - val_loss: -2.3626 - val_accuracy: 0.6783 - lr: 4.0000e-05\n",
      "Epoch 31/50\n",
      "25/25 [==============================] - ETA: 0s - loss: -2.5337 - accuracy: 0.6429\n",
      "Epoch 31: val_loss improved from -2.36263 to -2.37004, saving model to CNN2Weights2.h5\n",
      "25/25 [==============================] - 13s 508ms/step - loss: -2.5337 - accuracy: 0.6429 - val_loss: -2.3700 - val_accuracy: 0.6783 - lr: 4.0000e-05\n",
      "Epoch 32/50\n",
      "25/25 [==============================] - ETA: 0s - loss: -2.5340 - accuracy: 0.6300\n",
      "Epoch 32: val_loss improved from -2.37004 to -2.37731, saving model to CNN2Weights2.h5\n",
      "25/25 [==============================] - 13s 508ms/step - loss: -2.5340 - accuracy: 0.6300 - val_loss: -2.3773 - val_accuracy: 0.6783 - lr: 4.0000e-05\n",
      "Epoch 33/50\n",
      "25/25 [==============================] - ETA: 0s - loss: -2.2329 - accuracy: 0.6623\n",
      "Epoch 33: val_loss improved from -2.37731 to -2.38374, saving model to CNN2Weights2.h5\n",
      "25/25 [==============================] - 13s 502ms/step - loss: -2.2329 - accuracy: 0.6623 - val_loss: -2.3837 - val_accuracy: 0.6783 - lr: 4.0000e-05\n",
      "Epoch 34/50\n",
      "25/25 [==============================] - ETA: 0s - loss: -2.6135 - accuracy: 0.6350\n",
      "Epoch 34: val_loss improved from -2.38374 to -2.39106, saving model to CNN2Weights2.h5\n",
      "25/25 [==============================] - 13s 510ms/step - loss: -2.6135 - accuracy: 0.6350 - val_loss: -2.3911 - val_accuracy: 0.6783 - lr: 4.0000e-05\n",
      "Epoch 35/50\n",
      "25/25 [==============================] - ETA: 0s - loss: -2.5829 - accuracy: 0.6450\n",
      "Epoch 35: val_loss improved from -2.39106 to -2.39898, saving model to CNN2Weights2.h5\n",
      "25/25 [==============================] - 13s 507ms/step - loss: -2.5829 - accuracy: 0.6450 - val_loss: -2.3990 - val_accuracy: 0.6783 - lr: 4.0000e-05\n",
      "Epoch 36/50\n",
      "25/25 [==============================] - ETA: 0s - loss: -2.4653 - accuracy: 0.6299\n",
      "Epoch 36: val_loss improved from -2.39898 to -2.40633, saving model to CNN2Weights2.h5\n",
      "25/25 [==============================] - 13s 514ms/step - loss: -2.4653 - accuracy: 0.6299 - val_loss: -2.4063 - val_accuracy: 0.6783 - lr: 4.0000e-05\n",
      "Epoch 37/50\n",
      "25/25 [==============================] - ETA: 0s - loss: -2.3498 - accuracy: 0.6538\n",
      "Epoch 37: val_loss improved from -2.40633 to -2.41385, saving model to CNN2Weights2.h5\n",
      "25/25 [==============================] - 13s 506ms/step - loss: -2.3498 - accuracy: 0.6538 - val_loss: -2.4139 - val_accuracy: 0.6783 - lr: 4.0000e-05\n",
      "Epoch 38/50\n",
      "25/25 [==============================] - ETA: 0s - loss: -2.3871 - accuracy: 0.6513\n",
      "Epoch 38: val_loss improved from -2.41385 to -2.41812, saving model to CNN2Weights2.h5\n",
      "25/25 [==============================] - 13s 512ms/step - loss: -2.3871 - accuracy: 0.6513 - val_loss: -2.4181 - val_accuracy: 0.6783 - lr: 4.0000e-05\n",
      "Epoch 39/50\n",
      "25/25 [==============================] - ETA: 0s - loss: -2.6583 - accuracy: 0.6247\n",
      "Epoch 39: val_loss improved from -2.41812 to -2.42564, saving model to CNN2Weights2.h5\n",
      "25/25 [==============================] - 13s 513ms/step - loss: -2.6583 - accuracy: 0.6247 - val_loss: -2.4256 - val_accuracy: 0.6783 - lr: 4.0000e-05\n",
      "Epoch 40/50\n",
      "25/25 [==============================] - ETA: 0s - loss: -2.4656 - accuracy: 0.6413\n",
      "Epoch 40: val_loss improved from -2.42564 to -2.43270, saving model to CNN2Weights2.h5\n",
      "25/25 [==============================] - 13s 510ms/step - loss: -2.4656 - accuracy: 0.6413 - val_loss: -2.4327 - val_accuracy: 0.6783 - lr: 4.0000e-05\n",
      "Epoch 41/50\n",
      "25/25 [==============================] - ETA: 0s - loss: -2.6176 - accuracy: 0.6325\n",
      "Epoch 41: val_loss did not improve from -2.43270\n",
      "25/25 [==============================] - 12s 460ms/step - loss: -2.6176 - accuracy: 0.6325 - val_loss: -2.4277 - val_accuracy: 0.6696 - lr: 4.0000e-05\n",
      "Epoch 42/50\n",
      "25/25 [==============================] - ETA: 0s - loss: -2.6498 - accuracy: 0.6377\n",
      "Epoch 42: val_loss did not improve from -2.43270\n",
      "25/25 [==============================] - 11s 453ms/step - loss: -2.6498 - accuracy: 0.6377 - val_loss: -2.4265 - val_accuracy: 0.6696 - lr: 4.0000e-05\n",
      "Epoch 43/50\n",
      "25/25 [==============================] - ETA: 0s - loss: -2.4750 - accuracy: 0.6442\n",
      "Epoch 43: val_loss improved from -2.43270 to -2.43989, saving model to CNN2Weights2.h5\n",
      "25/25 [==============================] - 13s 500ms/step - loss: -2.4750 - accuracy: 0.6442 - val_loss: -2.4399 - val_accuracy: 0.6696 - lr: 4.0000e-05\n",
      "Epoch 44/50\n",
      "25/25 [==============================] - ETA: 0s - loss: -2.2915 - accuracy: 0.6500\n",
      "Epoch 44: val_loss improved from -2.43989 to -2.46456, saving model to CNN2Weights2.h5\n",
      "25/25 [==============================] - 13s 510ms/step - loss: -2.2915 - accuracy: 0.6500 - val_loss: -2.4646 - val_accuracy: 0.6783 - lr: 4.0000e-05\n",
      "Epoch 45/50\n",
      "25/25 [==============================] - ETA: 0s - loss: -2.3304 - accuracy: 0.6610\n",
      "Epoch 45: val_loss improved from -2.46456 to -2.47123, saving model to CNN2Weights2.h5\n",
      "25/25 [==============================] - 13s 502ms/step - loss: -2.3304 - accuracy: 0.6610 - val_loss: -2.4712 - val_accuracy: 0.6783 - lr: 4.0000e-05\n",
      "Epoch 46/50\n",
      "25/25 [==============================] - ETA: 0s - loss: -2.5109 - accuracy: 0.6416\n",
      "Epoch 46: val_loss improved from -2.47123 to -2.47795, saving model to CNN2Weights2.h5\n",
      "25/25 [==============================] - 13s 503ms/step - loss: -2.5109 - accuracy: 0.6416 - val_loss: -2.4780 - val_accuracy: 0.6783 - lr: 4.0000e-05\n",
      "Epoch 47/50\n",
      "25/25 [==============================] - ETA: 0s - loss: -2.6373 - accuracy: 0.6494\n",
      "Epoch 47: val_loss improved from -2.47795 to -2.48588, saving model to CNN2Weights2.h5\n",
      "25/25 [==============================] - 13s 510ms/step - loss: -2.6373 - accuracy: 0.6494 - val_loss: -2.4859 - val_accuracy: 0.6783 - lr: 4.0000e-05\n",
      "Epoch 48/50\n",
      "25/25 [==============================] - ETA: 0s - loss: -2.3778 - accuracy: 0.6481\n",
      "Epoch 48: val_loss did not improve from -2.48588\n",
      "25/25 [==============================] - 12s 454ms/step - loss: -2.3778 - accuracy: 0.6481 - val_loss: -2.4303 - val_accuracy: 0.6580 - lr: 4.0000e-05\n",
      "Epoch 49/50\n",
      "25/25 [==============================] - ETA: 0s - loss: -2.3285 - accuracy: 0.6545\n",
      "Epoch 49: val_loss did not improve from -2.48588\n",
      "25/25 [==============================] - 12s 452ms/step - loss: -2.3285 - accuracy: 0.6545 - val_loss: -2.4509 - val_accuracy: 0.6580 - lr: 4.0000e-05\n",
      "Epoch 50/50\n",
      "25/25 [==============================] - ETA: 0s - loss: -2.4369 - accuracy: 0.6338\n",
      "Epoch 50: val_loss improved from -2.48588 to -2.50567, saving model to CNN2Weights2.h5\n",
      "25/25 [==============================] - 13s 499ms/step - loss: -2.4369 - accuracy: 0.6338 - val_loss: -2.5057 - val_accuracy: 0.6783 - lr: 4.0000e-05\n"
     ]
    }
   ],
   "source": [
    "# Test Train Split\n",
    "images, labels = shuffle(images, labels, random_state=32)\n",
    "x_train, x_valid, y_train, y_valid = train_test_split(images, labels, test_size=0.20, random_state=32)\n",
    "#x_train, x_test, y_train, y_test = train_test_split(x_train, y_train, test_size=0.15, random_state=40)\n",
    "\n",
    "#Model\n",
    "datagen = ImageDataGenerator(zoom_range=0.2, horizontal_flip=True, vertical_flip=True,\n",
    "                            fill_mode='constant', cval=0.)\n",
    "train_gen = datagen.flow(x_train, y_train, batch_size=32)\n",
    "\n",
    "tr = DenseNet121(weights='imagenet', include_top=False, input_shape=(224,224,3))\n",
    "\n",
    "model = Sequential()\n",
    "model.add(tr)\n",
    "model.add(GlobalAveragePooling2D())\n",
    "\n",
    "model.add(Dense(25, activation='sigmoid'))\n",
    "\n",
    "model.add(Dense(80,activation='sigmoid'))\n",
    "\n",
    "model.add(Dense(100,activation='sigmoid'))\n",
    "\n",
    "model.add(Dense(50,activation='sigmoid'))\n",
    "\n",
    "model.add(Dropout(0.8))\n",
    "\n",
    "model.add(Dense(1, activation='sigmoid'))\n",
    "model.compile(loss='binary_crossentropy', optimizer='adam', metrics=['accuracy'])\n",
    "ck = ModelCheckpoint('CNN2Weights2.h5', monitor='val_loss', save_best_only=True, mode='auto', verbose=1)\n",
    "re = ReduceLROnPlateau(monitor='val_loss', mode='auto', factor=0.2, patience=4, verbose=1)\n",
    "model.summary()\n",
    "\n",
    "history = model.fit_generator(train_gen, epochs=50, steps_per_epoch=800//32,\n",
    "                              verbose=1, validation_data=(x_valid,y_valid),\n",
    "                              callbacks=[ck,re])\n",
    "\n",
    "# pred = model.evaluate(x_valid,y_valid)\n",
    "# print('Test Accuracy:', pred[1]*100)\n",
    "\n",
    "#Saving the Model\n",
    "model.save(\"CNN2Weights2.h5\")"
   ]
  },
  {
   "cell_type": "markdown",
   "metadata": {
    "id": "C0SJwO5zYPK2"
   },
   "source": [
    "# **TESTING THE ALGORITHM**"
   ]
  },
  {
   "cell_type": "markdown",
   "metadata": {
    "id": "auzZ3FCSk0S7"
   },
   "source": [
    "***Predicting Moderate Glaucoma***"
   ]
  },
  {
   "cell_type": "code",
   "execution_count": null,
   "metadata": {
    "id": "_2DBmIYnXxdP"
   },
   "outputs": [],
   "source": [
    "# Path for New Image to be Tested On\n",
    "p = '/content/drive/MyDrive/moderatecrop/m45 - Copy (2).png'\n",
    "\n",
    "im = load_img(p ,target_size = (224,224))\n",
    "\n",
    "i = img_to_array(im)\n",
    "input_arr = np.array([i])\n",
    "input_arr.shape\n",
    "#Predicting New Image's Category of Glaucoma\n",
    "prediction =((model.predict(input_arr))+1)\n",
    "prediction_lable = np.around(prediction)"
   ]
  },
  {
   "cell_type": "code",
   "execution_count": null,
   "metadata": {
    "colab": {
     "base_uri": "https://localhost:8080/"
    },
    "id": "ov-jzzLfX5mX",
    "outputId": "fc099a91-7d59-4dca-e576-230cb4306386"
   },
   "outputs": [
    {
     "name": "stdout",
     "output_type": "stream",
     "text": [
      "patient has Moderate Glaucoma\n"
     ]
    }
   ],
   "source": [
    "#Printing the Predicted Result\n",
    "if prediction >= 0 and prediction < 1:\n",
    "  print('the patient has No Glaucoma')\n",
    "elif prediction >= 1 and prediction < 1.99 :\n",
    "  print('the patient has Severe Glaucoma')\n",
    "else:\n",
    "  print('patient has Moderate Glaucoma')"
   ]
  },
  {
   "cell_type": "markdown",
   "metadata": {
    "id": "Y-eQBb-zk7ub"
   },
   "source": [
    "***Predicting Severe Glaucoma***"
   ]
  },
  {
   "cell_type": "code",
   "execution_count": null,
   "metadata": {
    "id": "i_Q0V_rlX_0v"
   },
   "outputs": [],
   "source": [
    "# Path for second Image to be Tested On\n",
    "p = '/content/drive/MyDrive/severe glaucomaCropped/severe38 - Copy (10) - Copy - Copy - Copy.png'\n",
    "\n",
    "im = load_img(p ,target_size = (224,224))\n",
    "\n",
    "i = img_to_array(im)\n",
    "input_arr = np.array([i])\n",
    "input_arr.shape\n",
    "#Predicting New Image's Category of Glaucoma\n",
    "prediction =(model.predict(input_arr))\n",
    "prediction_lable = np.around(prediction)"
   ]
  },
  {
   "cell_type": "code",
   "execution_count": null,
   "metadata": {
    "colab": {
     "base_uri": "https://localhost:8080/"
    },
    "id": "4ACUbOwtYDsG",
    "outputId": "6160d6c5-7db9-49f8-d662-16141914dbc2"
   },
   "outputs": [
    {
     "name": "stdout",
     "output_type": "stream",
     "text": [
      "the patient has Severe Glaucoma\n"
     ]
    }
   ],
   "source": [
    "#Printing the Predicted Result\n",
    "if prediction_lable >= 0 and prediction_lable < 1:\n",
    "  print('the patient has No Glaucoma')\n",
    "elif prediction_lable >= 1 and prediction_lable < 2 :\n",
    "  print('the patient has Severe Glaucoma')\n",
    "else:\n",
    "  print('patient has Moderate Glaucoma')"
   ]
  },
  {
   "cell_type": "markdown",
   "metadata": {
    "id": "vAm8pzRqlCgY"
   },
   "source": [
    "***Predicting No Glaucoma***"
   ]
  },
  {
   "cell_type": "code",
   "execution_count": null,
   "metadata": {
    "colab": {
     "base_uri": "https://localhost:8080/"
    },
    "id": "o4_UXS22X7LO",
    "outputId": "06594e57-3558-4f33-d572-c0560a64be9a"
   },
   "outputs": [
    {
     "data": {
      "text/plain": [
       "(1, 224, 224, 3)"
      ]
     },
     "execution_count": 33,
     "metadata": {},
     "output_type": "execute_result"
    }
   ],
   "source": [
    "# Path for second Image to be Tested On\n",
    "p = '/content/drive/MyDrive/NOGlaucoma_CROP/P766186_20190313_145319_Color_L_001 - Copy (13) - Copy.JPG'\n",
    "\n",
    "im = load_img(p ,target_size = (224,224))\n",
    "\n",
    "i = img_to_array(im)\n",
    "input_arr = np.array([i])\n",
    "input_arr.shape\n",
    "#Predicting New Image's Category of Glaucoma\n",
    "prediction =(model.predict(input_arr))"
   ]
  },
  {
   "cell_type": "code",
   "execution_count": null,
   "metadata": {
    "colab": {
     "base_uri": "https://localhost:8080/"
    },
    "id": "ozLVeC_XX-N-",
    "outputId": "59a00f00-0c87-458a-bbd3-bb60eaf299a9"
   },
   "outputs": [
    {
     "name": "stdout",
     "output_type": "stream",
     "text": [
      "the patient has No Glaucoma\n"
     ]
    }
   ],
   "source": [
    "#Printing the Predicted Result\n",
    "if prediction >= 0 and prediction < 1:\n",
    "  print('the patient has No Glaucoma')\n",
    "elif prediction >= 1 and prediction < 2 :\n",
    "  print('the patient has Severe Glaucoma')\n",
    "else:\n",
    "  print('patient has Moderate Glaucoma')"
   ]
  }
 ],
 "metadata": {
  "accelerator": "GPU",
  "colab": {
   "collapsed_sections": [],
   "provenance": []
  },
  "gpuClass": "standard",
  "kernelspec": {
   "display_name": "Python 3 (ipykernel)",
   "language": "python",
   "name": "python3"
  },
  "language_info": {
   "codemirror_mode": {
    "name": "ipython",
    "version": 3
   },
   "file_extension": ".py",
   "mimetype": "text/x-python",
   "name": "python",
   "nbconvert_exporter": "python",
   "pygments_lexer": "ipython3",
   "version": "3.11.7"
  }
 },
 "nbformat": 4,
 "nbformat_minor": 4
}
